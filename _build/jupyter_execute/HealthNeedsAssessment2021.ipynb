{
 "cells": [
  {
   "cell_type": "markdown",
   "metadata": {
    "tags": [
     "hide-input"
    ]
   },
   "source": [
    "# Health Needs Assessment 2021"
   ]
  },
  {
   "cell_type": "markdown",
   "metadata": {},
   "source": [
    "### Background"
   ]
  },
  {
   "cell_type": "code",
   "execution_count": 1,
   "metadata": {
    "slideshow": {
     "slide_type": "slide"
    },
    "tags": [
     "hide-input"
    ]
   },
   "outputs": [
    {
     "data": {
      "image/jpeg": "[encoded data removed]",
      "text/html": [
       "\n",
       "<iframe\n",
       "    width=\"500\"\n",
       "    height=\"280\"\n",
       "    src=\"https://www.youtube.com/embed/1ZN-lJkFE9M\"\n",
       "    frameborder=\"0\"\n",
       "    allowfullscreen\n",
       "></iframe>\n"
      ],
      "text/plain": [
       "<IPython.lib.display.YouTubeVideo at 0x1f0947ae8e0>"
      ]
     },
     "execution_count": 1,
     "metadata": {
      "filenames": {
       "image/jpeg": "C:\\Users\\Emma.Zhang\\OneDrive - Melbourne Primary Care Network\\Documents\\Needs Assessment\\HNA2021\\_build\\jupyter_execute\\HealthNeedsAssessment2021_2_0.jpg"
      }
     },
     "output_type": "execute_result"
    }
   ],
   "source": [
    "\n",
    "from IPython.display import YouTubeVideo\n",
    "\n",
    "YouTubeVideo('1ZN-lJkFE9M', width=500, height=280)\n"
   ]
  },
  {
   "cell_type": "markdown",
   "metadata": {},
   "source": [
    "### Analysis\n",
    "\n",
    "#### Health needs analysis"
   ]
  },
  {
   "cell_type": "markdown",
   "metadata": {},
   "source": [
    "- Geography, demography (SEIFA), health determinants\n",
    "- Health status (deaths, health conditions,\n",
    "- Human functions, wellbeing) and behaviours (attitude, belief,\n",
    "- Physical activity, alcohol consumption, participation in cancer \n",
    "- Screening program…??health intelligence)\n",
    "- Populations with special needs\n",
    "- Individuals and groups at risk of poor health outcomes"
   ]
  },
  {
   "cell_type": "markdown",
   "metadata": {},
   "source": [
    "#### Service needs analysis   "
   ]
  },
  {
   "cell_type": "markdown",
   "metadata": {},
   "source": [
    "\n",
    "\n",
    "- Geography\n",
    "- Health workforce mapping\n",
    "- Service mapping (location, utilisation,\n",
    "- Accessibility, responsiveness, capability,\n",
    "- Acceptability, quality)\n",
    "- Market analysis\n",
    "- Efficiency and effectiveness of health services\n",
    "- Coordination between and integration of services\n",
    "- Strengths and weakness"
   ]
  },
  {
   "cell_type": "markdown",
   "metadata": {},
   "source": [
    "### Assessment   "
   ]
  },
  {
   "cell_type": "markdown",
   "metadata": {
    "tags": [
     "hide-input"
    ]
   },
   "source": [
    "### Approach \n",
    "#### Information and data (qualitative and quantitative)\n",
    "- Australian Bureau of Statistics (ABS) Census and Census‐derived data on demographics, including the Socio Economic Indices for Areas (SEIFA) and profiles of health including the National Health Survey, the National Nutrition and Physical Activity Survey and the National Health Measures Survey, the National Aboriginal and Torres Strait Islander Health Survey, the National Aboriginal and Torres Strait Islander Nutrition and Physical Activity Survey, and the National Aboriginal and Torres Strait Islander Health Measures Survey\n",
    "- A range of Australian Institute of Health and Welfare (AIHW) and National Health Performance Authority (NHPA) datasets and publications, including the METeOR metadata registry\n",
    "- Medicare Benefits Schedule (MBS), Pharmaceutical Benefits Scheme (PBS) and Practice Incentives Programme (PIP) data\n",
    "- Aged care data (both residential and community based) such as Commonwealth Home Support Programme, or Department of Veterans Affairs (DVA) data\n",
    "- Mental health data such as the Access to Allied Psychological Services (ATAPS) data collection\n",
    "- Information on Indigenous data from a range of sources\n",
    "- The Australian Childhood Immunisation Register\n",
    "- The National Notifiable Diseases Surveillance System\n",
    "- Resources from the Royal Australian College of General Practitioners (RACGP)\n",
    "- Data from practices through clinical audit tools, and the Bettering the Evaluation and Care of Health (BEACH) data\n",
    "- Health workforce data\n",
    "- State and Territory Health Department data\n",
    "- Data from Local Hospital Networks or equivalents (including individual acute and community care services)\n",
    "- Local Government data\n",
    "- Information on the PHCRIS website\n",
    "- Information on the PHIDU website, such as the Social Health Atlas of Australia\n",
    "- National Health Services Directory (NHSD) and Healthdirect\n",
    "- There are also some mapping tools that may be useful to PHNs\n",
    "\n",
    "#### Consultation\n",
    "- Community advisory committees"
   ]
  }
 ],
 "metadata": {
  "hide_input": true,
  "kernelspec": {
   "display_name": "Python 3",
   "language": "python",
   "name": "python3"
  },
  "language_info": {
   "codemirror_mode": {
    "name": "ipython",
    "version": 3
   },
   "file_extension": ".py",
   "mimetype": "text/x-python",
   "name": "python",
   "nbconvert_exporter": "python",
   "pygments_lexer": "ipython3",
   "version": "3.8.3"
  },
  "toc": {
   "base_numbering": 1,
   "nav_menu": {},
   "number_sections": true,
   "sideBar": true,
   "skip_h1_title": true,
   "title_cell": "Table of Contents",
   "title_sidebar": "Contents",
   "toc_cell": false,
   "toc_position": {
    "height": "calc(100% - 180px)",
    "left": "10px",
    "top": "150px",
    "width": "411px"
   },
   "toc_section_display": true,
   "toc_window_display": true
  }
 },
 "nbformat": 4,
 "nbformat_minor": 4
}